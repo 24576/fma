{
 "cells": [
  {
   "cell_type": "markdown",
   "metadata": {
    "deletable": true,
    "editable": true
   },
   "source": [
    "# FMA: A Dataset For Music Analysis\n",
    "\n",
    "Michaël Defferrard, Kirell Benzi, Pierre Vandergheynst, Xavier Bresson, EPFL LTS2.\n",
    "\n",
    "## Features\n",
    "\n",
    "The notebook generates:\n",
    "* `features.json`: common features extracted with librosa.\n",
    "* `spotify.json`: audio features provided by Spotify (formerly Echonest).\n",
    "\n",
    "TODO:\n",
    "* features given for the MSD\n",
    "\n",
    "All features are extracted using [librosa](https://github.com/librosa/librosa). Alternatives:\n",
    "* [MARSYAS](https://github.com/marsyas/marsyas) (C++ with Python bindings)\n",
    "* [RP extract](http://www.ifs.tuwien.ac.at/mir/downloads.html) (Matlab, Java, Python)\n",
    "* [jMIR jAudio](http://jmir.sourceforge.net) (Java)"
   ]
  },
  {
   "cell_type": "code",
   "execution_count": null,
   "metadata": {
    "collapsed": false,
    "deletable": true,
    "editable": true
   },
   "outputs": [],
   "source": [
    "%load_ext autoreload\n",
    "%autoreload 2\n",
    "%matplotlib inline\n",
    "\n",
    "import utils\n",
    "import librosa\n",
    "import pandas as pd\n",
    "import numpy as np\n",
    "import os.path\n",
    "import ast"
   ]
  },
  {
   "cell_type": "code",
   "execution_count": null,
   "metadata": {
    "collapsed": false,
    "deletable": true,
    "editable": true
   },
   "outputs": [],
   "source": [
    "DATA_DIR = os.environ.get('DATA_DIR')\n",
    "tracks = pd.read_csv(os.path.join(DATA_DIR, 'tracks.csv'), index_col=0, converters={'genres': ast.literal_eval})\n",
    "#tracks = pd.read_json(os.path.join(DATA_DIR, 'tracks.json'), orient='split')\n",
    "path = utils.build_path(tracks, os.path.join(DATA_DIR, 'fma_small'))\n",
    "\n",
    "# Todo: fix dataset\n",
    "#tracks.index.set_names('track_id', inplace=True)\n",
    "\n",
    "tracks = tracks[:10]"
   ]
  },
  {
   "cell_type": "code",
   "execution_count": null,
   "metadata": {
    "collapsed": false,
    "deletable": true,
    "editable": true
   },
   "outputs": [],
   "source": [
    "n_mfcc = 13\n",
    "columns = []\n",
    "columns.extend(('mfcc', 'mean', '{:02d}'.format(i+1)) for i in range(n_mfcc))\n",
    "columns.extend(('mfcc', 'std', '{:02d}'.format(i+1)) for i in range(n_mfcc))\n",
    "columns = pd.MultiIndex.from_tuples(columns, names=('feature', 'statistics', 'number'))\n",
    "\n",
    "features = pd.DataFrame(index=tracks.index, columns=columns, dtype=np.float32)"
   ]
  },
  {
   "cell_type": "markdown",
   "metadata": {
    "deletable": true,
    "editable": true
   },
   "source": [
    "## 1 Segmentation"
   ]
  },
  {
   "cell_type": "markdown",
   "metadata": {
    "deletable": true,
    "editable": true
   },
   "source": [
    "## 2 Low-level features\n",
    "\n",
    "* Timbre (short-term): ZCR, SC, SR, SF, MFCC, DWCH\n",
    "* Temporal: SM, ARM, FP, AM\n",
    "\n",
    "Todo:\n",
    "* parallel implementation"
   ]
  },
  {
   "cell_type": "code",
   "execution_count": null,
   "metadata": {
    "collapsed": false,
    "deletable": true,
    "editable": true
   },
   "outputs": [],
   "source": [
    "for i, tid in enumerate(tracks.index):\n",
    "    x, sr = librosa.load(path(i), sr=None, mono=True)  # res_type='kaiser_fast'\n",
    "    m = librosa.feature.mfcc(x, sr, n_mfcc=n_mfcc, n_fft=2048, hop_length=512)\n",
    "    features.loc[tid, ('mfcc', 'mean')] = m.mean(axis=1)\n",
    "    features.loc[tid, ('mfcc', 'std')] = m.std(axis=1)"
   ]
  },
  {
   "cell_type": "markdown",
   "metadata": {
    "deletable": true,
    "editable": true
   },
   "source": [
    "## 3 High-level features\n",
    "\n",
    "* Pitch: PH/PCP, EPCP\n",
    "* Rhythm: BH, BPM\n",
    "* Harmony: CP, CH"
   ]
  },
  {
   "cell_type": "markdown",
   "metadata": {
    "collapsed": true,
    "deletable": true,
    "editable": true
   },
   "source": [
    "## 4 Store features"
   ]
  },
  {
   "cell_type": "code",
   "execution_count": null,
   "metadata": {
    "collapsed": false,
    "deletable": true,
    "editable": true
   },
   "outputs": [],
   "source": [
    "# More performant to slice if indexes are sorted.\n",
    "features.sort_index(axis=0, inplace=True)\n",
    "features.sort_index(axis=1, inplace=True)\n",
    "\n",
    "assert not features.isnull().values.any()\n",
    "\n",
    "ndigits = 10\n",
    "filename = os.path.join(DATA_DIR, 'features.csv')\n",
    "features.to_csv(filename, float_format='%.{}e'.format(ndigits))\n",
    "\n",
    "#features.to_json(os.path.join(DATA_DIR, 'features.json'), orient='split')\n",
    "#features.to_hdf('features.hdf', 'features')\n",
    "#features.to_hdf('features_zlib.hdf', 'features', complevel=9, complib='zlib')\n",
    "#features.to_hdf('features_bzip2.hdf', 'features', complevel=9, complib='bzip2')\n",
    "#features.to_hdf('features_lzo.hdf', 'features', complevel=9, complib='lzo')\n",
    "#features.to_hdf('features_blosc.hdf', 'features', complevel=9, complib='blosc')"
   ]
  },
  {
   "cell_type": "code",
   "execution_count": null,
   "metadata": {
    "collapsed": false,
    "deletable": true,
    "editable": true
   },
   "outputs": [],
   "source": [
    "tmp = pd.read_csv(filename, index_col=0, header=[0, 1, 2])\n",
    "np.testing.assert_allclose(tmp.values, features.values, rtol=10**-ndigits)"
   ]
  },
  {
   "cell_type": "markdown",
   "metadata": {
    "deletable": true,
    "editable": true
   },
   "source": [
    "## 5 Spotify features\n",
    "\n",
    "Todo: grab features through the Spotify API (formerly Echonest)."
   ]
  }
 ],
 "metadata": {
  "kernelspec": {
   "display_name": "Python 3",
   "language": "python",
   "name": "python3"
  },
  "language_info": {
   "codemirror_mode": {
    "name": "ipython",
    "version": 3
   },
   "file_extension": ".py",
   "mimetype": "text/x-python",
   "name": "python",
   "nbconvert_exporter": "python",
   "pygments_lexer": "ipython3",
   "version": "3.6.0"
  }
 },
 "nbformat": 4,
 "nbformat_minor": 2
}
