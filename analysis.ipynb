{
 "cells": [
  {
   "cell_type": "markdown",
   "metadata": {
    "deletable": true,
    "editable": true
   },
   "source": [
    "# FMA: A Dataset For Music Analysis\n",
    "\n",
    "Michaël Defferrard, Kirell Benzi, Pierre Vandergheynst, Xavier Bresson, EPFL LTS2.\n",
    "\n",
    "## Analysis\n",
    "\n",
    "TODO:\n",
    "* Figures and tables for the paper.\n",
    "* Genre tree with number of tracks per genre.\n",
    "* Genre distribution for dataset and subsets.\n",
    "* Histogram of durations\n",
    "* Cumulative number of songs per year\n",
    "* Artist / album effect: number of songs per artist, artists per genre."
   ]
  },
  {
   "cell_type": "code",
   "execution_count": null,
   "metadata": {
    "collapsed": false,
    "deletable": true,
    "editable": true
   },
   "outputs": [],
   "source": [
    "%matplotlib inline\n",
    "\n",
    "import utils\n",
    "import librosa\n",
    "import matplotlib.pyplot as plt\n",
    "import seaborn as sns\n",
    "import pandas as pd\n",
    "import numpy as np\n",
    "import os.path\n",
    "import ast\n",
    "\n",
    "from sklearn.preprocessing import MultiLabelBinarizer"
   ]
  },
  {
   "cell_type": "code",
   "execution_count": null,
   "metadata": {
    "collapsed": false,
    "deletable": true,
    "editable": true
   },
   "outputs": [],
   "source": [
    "DATA_DIR = os.environ.get('DATA_DIR')\n",
    "tracks = pd.read_csv(os.path.join(DATA_DIR, 'tracks.csv'), index_col=0, converters={'genres': ast.literal_eval})\n",
    "features = pd.read_csv(os.path.join(DATA_DIR, 'features.csv'), index_col=0, header=[0, 1, 2])"
   ]
  },
  {
   "cell_type": "markdown",
   "metadata": {
    "deletable": true,
    "editable": true
   },
   "source": [
    "## 1 Genres\n",
    "\n",
    "Analysis\n",
    "* Genre hierarchy\n",
    "* Top- and sub-genres\n",
    "\n",
    "Todo\n",
    "* First plateau should be flat, no cross-over top genres\n",
    "\n",
    "Observations\n",
    "* Genres appearing most are the ones selected in the dataset.\n",
    "* Most songs only have one genre."
   ]
  },
  {
   "cell_type": "code",
   "execution_count": null,
   "metadata": {
    "collapsed": false,
    "deletable": true,
    "editable": true
   },
   "outputs": [],
   "source": [
    "enc = MultiLabelBinarizer()\n",
    "genres_indicator = enc.fit_transform(tracks['genres'])\n",
    "genres_names = enc.classes_\n",
    "cross_correlation = genres_indicator.T @ genres_indicator"
   ]
  },
  {
   "cell_type": "code",
   "execution_count": null,
   "metadata": {
    "collapsed": false,
    "deletable": true,
    "editable": true
   },
   "outputs": [],
   "source": [
    "genres_count = cross_correlation.diagonal()\n",
    "sort = np.argsort(genres_count)[::-1]\n",
    "genres_count = genres_count[sort]\n",
    "\n",
    "plt.figure(figsize=(25, 10))\n",
    "plt.plot(genres_count)\n",
    "plt.xticks(range(len(genres_names)), genres_names[sort], rotation=90);\n",
    "plt.xlim((0, len(genres_names)))\n",
    "\n",
    "plt.figure(figsize=(17, 5))\n",
    "plt.hist(genres_count, bins=100);"
   ]
  },
  {
   "cell_type": "code",
   "execution_count": null,
   "metadata": {
    "collapsed": false,
    "deletable": true,
    "editable": true
   },
   "outputs": [],
   "source": [
    "plt.figure(figsize=(17, 5))\n",
    "tmp = genres_indicator.sum(axis=1)\n",
    "plt.hist(tmp, bins=range(0, tmp.max()))\n",
    "plt.yscale('log')\n",
    "plt.xlim((1, tmp.max()+1))\n",
    "plt.xticks(np.arange(tmp.max())+1.5, np.arange(tmp.max())+1);"
   ]
  },
  {
   "cell_type": "code",
   "execution_count": null,
   "metadata": {
    "collapsed": false,
    "deletable": true,
    "editable": true
   },
   "outputs": [],
   "source": [
    "np.fill_diagonal(cross_correlation, 0)\n",
    "\n",
    "plt.figure(figsize=(28, 28))\n",
    "plt.imshow(np.log(cross_correlation))\n",
    "plt.yticks(range(len(genres_names)), genres_names);\n",
    "plt.xticks(range(len(genres_names)), genres_names, rotation=90);"
   ]
  },
  {
   "cell_type": "code",
   "execution_count": null,
   "metadata": {
    "collapsed": false,
    "deletable": true,
    "editable": true
   },
   "outputs": [],
   "source": [
    "cross_correlation = np.tril(cross_correlation, k=-1)\n",
    "sort = np.argsort(cross_correlation.flatten())\n",
    "tmp = cross_correlation.flatten()[sort]\n",
    "\n",
    "plt.figure(figsize=(17, 5))\n",
    "plt.plot(tmp[tmp>0][::-1]);"
   ]
  },
  {
   "cell_type": "code",
   "execution_count": null,
   "metadata": {
    "collapsed": false,
    "deletable": true,
    "editable": true
   },
   "outputs": [],
   "source": [
    "N = 20\n",
    "indices = np.unravel_index(sort[:-N:-1], cross_correlation.shape)\n",
    "for i, j in zip(*indices):\n",
    "    print('{}: {} | {}'.format(cross_correlation[i, j], genres_names[i], genres_names[j]))"
   ]
  },
  {
   "cell_type": "markdown",
   "metadata": {
    "deletable": true,
    "editable": true
   },
   "source": [
    "## 2 Artists"
   ]
  },
  {
   "cell_type": "markdown",
   "metadata": {
    "deletable": true,
    "editable": true
   },
   "source": [
    "## 3 Audio\n",
    "\n",
    "e.g. audio features (echonest / librosa) to show diversity"
   ]
  },
  {
   "cell_type": "markdown",
   "metadata": {
    "deletable": true,
    "editable": true
   },
   "source": [
    "## 4 Features"
   ]
  },
  {
   "cell_type": "code",
   "execution_count": null,
   "metadata": {
    "collapsed": false,
    "deletable": true,
    "editable": true
   },
   "outputs": [],
   "source": [
    "features.head(5)"
   ]
  },
  {
   "cell_type": "code",
   "execution_count": null,
   "metadata": {
    "collapsed": false,
    "deletable": true,
    "editable": true
   },
   "outputs": [],
   "source": [
    "sns.pairplot(features.loc[:, ('mfcc', 'mean', slice('01','03'))]);\n",
    "sns.pairplot(features.loc[:, ('mfcc', 'std', slice('01','03'))]);"
   ]
  },
  {
   "cell_type": "markdown",
   "metadata": {
    "deletable": true,
    "editable": true
   },
   "source": [
    "## 5 Echonest features\n",
    "\n",
    "Todo:\n",
    "* Percentage of available fields"
   ]
  }
 ],
 "metadata": {
  "kernelspec": {
   "display_name": "Python 3",
   "language": "python",
   "name": "python3"
  },
  "language_info": {
   "codemirror_mode": {
    "name": "ipython",
    "version": 3
   },
   "file_extension": ".py",
   "mimetype": "text/x-python",
   "name": "python",
   "nbconvert_exporter": "python",
   "pygments_lexer": "ipython3",
   "version": "3.6.0"
  }
 },
 "nbformat": 4,
 "nbformat_minor": 2
}
