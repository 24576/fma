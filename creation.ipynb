{
 "cells": [
  {
   "cell_type": "markdown",
   "metadata": {
    "deletable": true,
    "editable": true
   },
   "source": [
    "# FMA: A Dataset For Music Analysis\n",
    "\n",
    "Michaël Defferrard, Kirell Benzi, Pierre Vandergheynst, Xavier Bresson, EPFL LTS2.\n",
    "\n",
    "## Generation / Collection / Creation\n",
    "\n",
    "Todo\n",
    "* update counts"
   ]
  },
  {
   "cell_type": "code",
   "execution_count": null,
   "metadata": {
    "collapsed": false,
    "deletable": true,
    "editable": true
   },
   "outputs": [],
   "source": [
    "%load_ext autoreload\n",
    "%autoreload 2\n",
    "\n",
    "import pickle\n",
    "import pandas as pd\n",
    "import IPython.display as ipd"
   ]
  },
  {
   "cell_type": "markdown",
   "metadata": {
    "deletable": true,
    "editable": true
   },
   "source": [
    "## 1 Retrieve metadata from FMA\n",
    "\n",
    "* To add new tracks: iterate from max to most recent only.\n",
    "* To update user data: get them all again."
   ]
  },
  {
   "cell_type": "code",
   "execution_count": null,
   "metadata": {
    "collapsed": false,
    "deletable": true,
    "editable": true
   },
   "outputs": [],
   "source": [
    "# Script used to query the API for all tracks, albums and artists.\n",
    "!cat creation.py"
   ]
  },
  {
   "cell_type": "code",
   "execution_count": null,
   "metadata": {
    "collapsed": false,
    "deletable": true,
    "editable": true
   },
   "outputs": [],
   "source": [
    "# converters={'genres': ast.literal_eval}\n",
    "tracks = pd.read_csv('tracks_raw.csv', index_col=0)\n",
    "albums = pd.read_csv('albums_raw.csv', index_col=0)\n",
    "artists = pd.read_csv('artists_raw.csv', index_col=0)\n",
    "genres = pd.read_csv('genres_raw.csv', index_col=0)\n",
    "\n",
    "not_found = pickle.load(open('not_found.pickle', 'rb'))"
   ]
  },
  {
   "cell_type": "code",
   "execution_count": null,
   "metadata": {
    "collapsed": false,
    "deletable": true,
    "editable": true
   },
   "outputs": [],
   "source": [
    "tmp = tracks.shape[0], len(not_found['tracks'])\n",
    "print('tracks: {} collected ({} not found)'.format(*tmp))\n",
    "tmp = albums.shape[0], len(not_found['albums'])\n",
    "print('albums: {} collected ({} not found)'.format(*tmp))\n",
    "tmp = artists.shape[0], len(not_found['artists'])\n",
    "print('artists: {} collected ({} not found)'.format(*tmp))\n",
    "print('genres: {} collected'.format(genres.shape[0]))"
   ]
  },
  {
   "cell_type": "code",
   "execution_count": null,
   "metadata": {
    "collapsed": false,
    "deletable": true,
    "editable": true
   },
   "outputs": [],
   "source": [
    "ipd.display(tracks.head(5))\n",
    "ipd.display(albums.head(5))\n",
    "ipd.display(artists.head(5))\n",
    "ipd.display(genres.head(5))"
   ]
  },
  {
   "cell_type": "markdown",
   "metadata": {
    "deletable": true,
    "editable": true
   },
   "source": [
    "## 2 Format metadata\n",
    "\n",
    "* Columns who are lists: genres, album_images, artist_images\n",
    "* Fill `tracks.json` by iterating over all `track_id`.\n",
    "* Fill `genres.json`"
   ]
  },
  {
   "cell_type": "code",
   "execution_count": null,
   "metadata": {
    "collapsed": true,
    "deletable": true,
    "editable": true
   },
   "outputs": [],
   "source": [
    "translation = {\n",
    "    'track_id': 'track_id',\n",
    "    'album_id': 'album_id',\n",
    "    'artist_id': 'artist_id',\n",
    "    'license_title': 'license'\n",
    "}"
   ]
  },
  {
   "cell_type": "code",
   "execution_count": null,
   "metadata": {
    "collapsed": false
   },
   "outputs": [],
   "source": [
    "genres['genre_parent_id'].fillna(0, inplace=True)\n",
    "genres['genre_parent_id'] = genres['genre_parent_id'].astype(int)"
   ]
  },
  {
   "cell_type": "markdown",
   "metadata": {
    "deletable": true,
    "editable": true
   },
   "source": [
    "## 2 Download audio from FMA\n",
    "\n",
    "1. Download original `.mp3` from each stored `track_id`, only if it does not exist already.\n",
    "    1. Verify checksum for some random tracks.\n",
    "1. Compute and store a checksum. By sha1sum in another file?\n",
    "1. Fill meta-data about encoding: length, number of samples, sample rate, bit rate, channels (mono/stereo), 16bits?."
   ]
  },
  {
   "cell_type": "markdown",
   "metadata": {
    "deletable": true,
    "editable": true
   },
   "source": [
    "## 3 Data cleaning\n",
    "\n",
    "* Missing audio or meta-data (all files are in tracks.csv and vice-versa)\n",
    "* Duplicates\n",
    "* Exclude non-CC licensed songs.\n",
    "\n",
    "Genres\n",
    "* Some genres have a `parent_id` which does not exist."
   ]
  },
  {
   "cell_type": "code",
   "execution_count": null,
   "metadata": {
    "collapsed": true
   },
   "outputs": [],
   "source": [
    "# 13 (Easy Listening) has parent 126 which is missing\n",
    "# --> a root genre on the website, although not in the genre menu\n",
    "genres.loc[13, 'genre_parent_id'] = 0\n",
    "\n",
    "# 580 (Abstract Hip-Hop) has parent 1172 which is missing\n",
    "# --> listed as child of Hip-Hop on the website\n",
    "genres.loc[580, 'genre_parent_id'] = 21\n",
    "\n",
    "# 810 (Nu-Jazz) has parent 51 which is missing\n",
    "# --> listed as child of Easy Listening on website\n",
    "genres.loc[810, 'genre_parent_id'] = 13"
   ]
  },
  {
   "cell_type": "markdown",
   "metadata": {
    "deletable": true,
    "editable": true
   },
   "source": [
    "## 4 Splits: train, validation, test\n",
    "\n",
    "Take into account:\n",
    "* Artists may only appear on one side.\n",
    "* Stratification: all characteristics (sampling rates) should be distributed equally."
   ]
  },
  {
   "cell_type": "markdown",
   "metadata": {
    "deletable": true,
    "editable": true
   },
   "source": [
    "## 5 Subsets: large, medium, small\n",
    "\n",
    "* Select the subsets.\n",
    "* Clip all tracks."
   ]
  },
  {
   "cell_type": "code",
   "execution_count": null,
   "metadata": {
    "collapsed": true,
    "deletable": true,
    "editable": true
   },
   "outputs": [],
   "source": [
    "# Songs shorter than 30s"
   ]
  },
  {
   "cell_type": "markdown",
   "metadata": {
    "deletable": true,
    "editable": true
   },
   "source": [
    "## 6 Store\n",
    "\n",
    "* Fill the archives and compute their checksum.\n",
    "    * Tool: zipfile\n",
    "* Set permissions and creation/modification/access times.\n",
    "\n",
    "\n",
    "* `fma_metadata.zip`\n",
    "    * `tracks.csv`\n",
    "    * `genres.csv`\n",
    "* `fma_features.zip`\n",
    "    * `features.csv`\n",
    "    * `echonest.csv`\n",
    "* `fma_full.zip`\n",
    "* `fma_large.zip`\n",
    "* `fma_medium.zip`\n",
    "* `fma_small.zip` (30G full length --> 3.4GiB)"
   ]
  },
  {
   "cell_type": "code",
   "execution_count": null,
   "metadata": {
    "collapsed": true
   },
   "outputs": [],
   "source": [
    "for dataset in 'tracks', 'albums', 'artists', 'genres':\n",
    "    eval(dataset).sort_index(axis=0, inplace=True)\n",
    "    eval(dataset).sort_index(axis=1, inplace=True)\n",
    "    eval(dataset).to_csv(dataset + '.csv')"
   ]
  }
 ],
 "metadata": {
  "kernelspec": {
   "display_name": "Python 3",
   "language": "python",
   "name": "python3"
  },
  "language_info": {
   "codemirror_mode": {
    "name": "ipython",
    "version": 3
   },
   "file_extension": ".py",
   "mimetype": "text/x-python",
   "name": "python",
   "nbconvert_exporter": "python",
   "pygments_lexer": "ipython3",
   "version": "3.6.0"
  }
 },
 "nbformat": 4,
 "nbformat_minor": 2
}
