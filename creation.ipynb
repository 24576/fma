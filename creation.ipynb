{
 "cells": [
  {
   "cell_type": "markdown",
   "metadata": {
    "deletable": true,
    "editable": true
   },
   "source": [
    "\n"
   ]
  },
  {
   "cell_type": "markdown",
   "metadata": {
    "deletable": true,
    "editable": true
   },
   "source": [
    "# FMA: A Dataset For Music Analysis\n",
    "\n",
    "Michaël Defferrard, Kirell Benzi, Pierre Vandergheynst, Xavier Bresson, EPFL LTS2.\n",
    "\n",
    "## Generation / Collection / Creation\n",
    "\n",
    "Todo\n",
    "* update counts"
   ]
  },
  {
   "cell_type": "markdown",
   "metadata": {
    "deletable": true,
    "editable": true
   },
   "source": [
    "## 1 Retrieve meta-data from FMA\n",
    "\n",
    "* Fill `tracks.json` by iterating over all `track_id`.\n",
    "* When updating we only iterate from max to most recent.\n",
    "\n",
    "\n",
    "* Fill `genres.json`"
   ]
  },
  {
   "cell_type": "code",
   "execution_count": null,
   "metadata": {
    "collapsed": false,
    "deletable": true,
    "editable": true
   },
   "outputs": [],
   "source": [
    "import utils\n",
    "\n",
    "def get_fma_all_tracks(max_track_id=2*10**5):\n",
    "    track_ids = []\n",
    "    for track_id in range(max_track_id):\n",
    "        if track_id % 10 == 0:\n",
    "            print(track_id)\n",
    "        try:\n",
    "            track_id = utils.get_fma_track(track_id, 'track_id')\n",
    "            track_ids.append(track_id)\n",
    "        except:\n",
    "            pass\n",
    "    return track_ids\n",
    "\n",
    "\n",
    "get_fma_all_tracks(max_track_id=20)"
   ]
  },
  {
   "cell_type": "markdown",
   "metadata": {
    "deletable": true,
    "editable": true
   },
   "source": [
    "## 2 Download audio from FMA\n",
    "\n",
    "1. Download original `.mp3` from each stored `track_id`.\n",
    "1. Compute and store a checksum.\n",
    "1. Fill meta-data about encoding: sample rate, bit rate, channels (mono/stereo)."
   ]
  },
  {
   "cell_type": "markdown",
   "metadata": {
    "deletable": true,
    "editable": true
   },
   "source": [
    "## 3 Data cleaning\n",
    "\n",
    "* Missing audio or meta-data\n",
    "* Duplicates"
   ]
  },
  {
   "cell_type": "markdown",
   "metadata": {
    "deletable": true,
    "editable": true
   },
   "source": [
    "## 4 Splits: train / test\n",
    "\n",
    "Take into account:\n",
    "* Artists may only appear on one side.\n",
    "* Stratification: sampling rates should be distributed equally."
   ]
  },
  {
   "cell_type": "markdown",
   "metadata": {
    "deletable": true,
    "editable": true
   },
   "source": [
    "## 4 Subsets\n",
    "\n",
    "Create `.zip` archives.\n",
    "* Select the subsets.\n",
    "* Clip all tracks.\n",
    "* Fill the archives."
   ]
  }
 ],
 "metadata": {
  "kernelspec": {
   "display_name": "Python 3",
   "language": "python",
   "name": "python3"
  },
  "language_info": {
   "codemirror_mode": {
    "name": "ipython",
    "version": 3
   },
   "file_extension": ".py",
   "mimetype": "text/x-python",
   "name": "python",
   "nbconvert_exporter": "python",
   "pygments_lexer": "ipython3",
   "version": "3.6.0"
  }
 },
 "nbformat": 4,
 "nbformat_minor": 2
}
