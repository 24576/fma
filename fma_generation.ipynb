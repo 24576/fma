{
 "cells": [
  {
   "cell_type": "markdown",
   "metadata": {},
   "source": [
    "# FMA: A Dataset For Music Analysis\n",
    "\n",
    "Kirell Benzi, Michaël Defferrard, Pierre Vandergheynst, Xavier Bresson, EPFL LTS2.\n",
    "\n",
    "## Dataset generation\n",
    "\n",
    "This notebook ams at extracting and storing all the tracks of the [Free Music Archive](http://freemusicarchive.org/) to create a new dataset. The database `input` table was filled  manually using `fma_crawler.py`. It also downloads and creates 30sec clips from the songs."
   ]
  },
  {
   "cell_type": "code",
   "execution_count": 1,
   "metadata": {
    "collapsed": false
   },
   "outputs": [
    {
     "name": "stdout",
     "output_type": "stream",
     "text": [
      "Data directory: /home/kikohs/data/freemusicarchive/\n"
     ]
    }
   ],
   "source": [
    "import os\n",
    "import time\n",
    "import itertools\n",
    "import numpy as np\n",
    "import scipy as sp\n",
    "import pandas as pd\n",
    "import networkx as nx\n",
    "import matplotlib as mpl\n",
    "import matplotlib.pyplot as plt\n",
    "\n",
    "import rethinkdb as r\n",
    "import requests\n",
    "\n",
    "# Customize plot colors for dark backgrounds\n",
    "%matplotlib inline\n",
    "mpl.rcParams['axes.edgecolor'] = 'grey'\n",
    "mpl.rcParams['grid.color'] = '#66CCCC'\n",
    "mpl.rcParams['text.color'] = '#0EBFE9'\n",
    "mpl.rcParams['xtick.color'] = '#66CCCC'\n",
    "mpl.rcParams['ytick.color'] = '#66CCCC'\n",
    "mpl.rcParams['axes.labelcolor'] = '#0EBFE9'\n",
    "\n",
    "\n",
    "import IPython\n",
    "HOME_DIR = IPython.utils.path.get_home_dir()\n",
    "ROOT_DIR = os.path.join(HOME_DIR, 'work/mjf')\n",
    "NOTEBOOK_DIR = os.path.join(ROOT_DIR, 'notebook')\n",
    "CODE_DIR = os.path.join(ROOT_DIR, 'mjf')\n",
    "\n",
    "%load_ext autoreload\n",
    "%autoreload 2\n",
    "os.sys.path.append(os.path.dirname(os.path.abspath('.')))\n",
    "os.sys.path.append(CODE_DIR)\n",
    "\n",
    "import mjf\n",
    "import mjf.crawlers.fma_crawler\n",
    "import mjf.crawlers.song_crawler\n",
    "import mjf.db\n",
    "import mjf.utils\n",
    "import mjf.graph\n",
    "import mjf.plots\n",
    "\n",
    "import IPython.utils.path\n",
    "# DATA_DIR = os.path.join(IPython.utils.path.get_home_dir(), 'local/freemusicarchive/')\n",
    "DATA_DIR = os.path.join(IPython.utils.path.get_home_dir(), 'data/freemusicarchive/')\n",
    "print 'Data directory:', DATA_DIR\n",
    "MUSIC_DIR = os.path.join(DATA_DIR, 'music/')\n",
    "CLIP_DIR = os.path.join(DATA_DIR, 'clips/')"
   ]
  },
  {
   "cell_type": "markdown",
   "metadata": {},
   "source": [
    "## 1 Large: full dataset"
   ]
  },
  {
   "cell_type": "code",
   "execution_count": 2,
   "metadata": {
    "collapsed": false
   },
   "outputs": [],
   "source": [
    "#a = r.db(conf['project']).table('input')\n",
    "#a.get_all().run(conn)\n",
    "#a.order_by('fma_id').keys().run(conn)"
   ]
  },
  {
   "cell_type": "code",
   "execution_count": 3,
   "metadata": {
    "collapsed": false
   },
   "outputs": [
    {
     "name": "stdout",
     "output_type": "stream",
     "text": [
      "Number of songs: 89912\n"
     ]
    },
    {
     "data": {
      "text/html": [
       "<div>\n",
       "<table border=\"1\" class=\"dataframe\">\n",
       "  <thead>\n",
       "    <tr style=\"text-align: right;\">\n",
       "      <th></th>\n",
       "      <th>artist</th>\n",
       "      <th>genres</th>\n",
       "      <th>play_count</th>\n",
       "      <th>title</th>\n",
       "    </tr>\n",
       "    <tr>\n",
       "      <th>fma_id</th>\n",
       "      <th></th>\n",
       "      <th></th>\n",
       "      <th></th>\n",
       "      <th></th>\n",
       "    </tr>\n",
       "  </thead>\n",
       "  <tbody>\n",
       "    <tr>\n",
       "      <th>2</th>\n",
       "      <td>AWOL</td>\n",
       "      <td>[{u'genre_title': u'Hip-Hop', u'genre_url': u'...</td>\n",
       "      <td>874</td>\n",
       "      <td>Food</td>\n",
       "    </tr>\n",
       "    <tr>\n",
       "      <th>3</th>\n",
       "      <td>AWOL</td>\n",
       "      <td>[{u'genre_title': u'Hip-Hop', u'genre_url': u'...</td>\n",
       "      <td>453</td>\n",
       "      <td>Electric Ave</td>\n",
       "    </tr>\n",
       "    <tr>\n",
       "      <th>5</th>\n",
       "      <td>AWOL</td>\n",
       "      <td>[{u'genre_title': u'Hip-Hop', u'genre_url': u'...</td>\n",
       "      <td>1108</td>\n",
       "      <td>This World</td>\n",
       "    </tr>\n",
       "    <tr>\n",
       "      <th>10</th>\n",
       "      <td>Kurt Vile</td>\n",
       "      <td>[{u'genre_title': u'Pop', u'genre_url': u'http...</td>\n",
       "      <td>42936</td>\n",
       "      <td>Freeway</td>\n",
       "    </tr>\n",
       "    <tr>\n",
       "      <th>20</th>\n",
       "      <td>Nicky Cook</td>\n",
       "      <td>[{u'genre_title': u'Experimental Pop', u'genre...</td>\n",
       "      <td>288</td>\n",
       "      <td>Spiritual Level</td>\n",
       "    </tr>\n",
       "  </tbody>\n",
       "</table>\n",
       "</div>"
      ],
      "text/plain": [
       "            artist                                             genres  \\\n",
       "fma_id                                                                  \n",
       "2             AWOL  [{u'genre_title': u'Hip-Hop', u'genre_url': u'...   \n",
       "3             AWOL  [{u'genre_title': u'Hip-Hop', u'genre_url': u'...   \n",
       "5             AWOL  [{u'genre_title': u'Hip-Hop', u'genre_url': u'...   \n",
       "10       Kurt Vile  [{u'genre_title': u'Pop', u'genre_url': u'http...   \n",
       "20      Nicky Cook  [{u'genre_title': u'Experimental Pop', u'genre...   \n",
       "\n",
       "        play_count            title  \n",
       "fma_id                               \n",
       "2              874             Food  \n",
       "3              453     Electric Ave  \n",
       "5             1108       This World  \n",
       "10           42936          Freeway  \n",
       "20             288  Spiritual Level  "
      ]
     },
     "execution_count": 3,
     "metadata": {},
     "output_type": "execute_result"
    }
   ],
   "source": [
    "# Get dataframe from rethink DB\n",
    "conf = mjf.utils.parse_config(os.path.join(ROOT_DIR, 'resources/config_fma.json'))\n",
    "conn = mjf.db.get_connection(conf)\n",
    "dataset_name = conf['project']\n",
    "keys = ['artist_name', 'track_title', 'track_listens', 'track_genres']\n",
    "df = mjf.db.get_all(dataset_name, conn, 'input', keys)\n",
    "\n",
    "columns = {'artist_name': 'artist', 'track_title': 'title', 'track_genres': 'genres', 'track_listens': 'play_count'}\n",
    "df.rename(columns=columns, inplace=True)\n",
    "\n",
    "print('Number of songs: {}'.format(len(df)))\n",
    "df.head()"
   ]
  },
  {
   "cell_type": "code",
   "execution_count": 4,
   "metadata": {
    "collapsed": false
   },
   "outputs": [
    {
     "name": "stdout",
     "output_type": "stream",
     "text": [
      "Number of tracks: 89068\n",
      "Number of clips: 86992\n",
      "Number of songs: 86886\n"
     ]
    }
   ],
   "source": [
    "# Full track on disk\n",
    "tracks = list(mjf.utils.folder_walker(MUSIC_DIR))\n",
    "print('Number of tracks: {}'.format(len(tracks)))\n",
    "idx = pd.Series(tracks, map(lambda x: int(os.path.split(x)[1].split('.')[0][:]), tracks))\n",
    "\n",
    "# Clips on disk\n",
    "clips = list(mjf.utils.folder_walker(CLIP_DIR))\n",
    "print('Number of clips: {}'.format(len(clips)))\n",
    "idx = pd.Series(clips, map(lambda x: int(os.path.split(x)[1].split('.')[0][5:]), clips))\n",
    "\n",
    "# Filter songs that have a clip on disk\n",
    "df = df[df.index.isin(idx.index)]\n",
    "print('Number of songs: {}'.format(len(df)))"
   ]
  },
  {
   "cell_type": "code",
   "execution_count": 5,
   "metadata": {
    "collapsed": false
   },
   "outputs": [
    {
     "name": "stdout",
     "output_type": "stream",
     "text": [
      "Number of songs without genre: 6939\n",
      "Number of songs: 79947\n"
     ]
    },
    {
     "data": {
      "text/html": [
       "<div>\n",
       "<table border=\"1\" class=\"dataframe\">\n",
       "  <thead>\n",
       "    <tr style=\"text-align: right;\">\n",
       "      <th></th>\n",
       "      <th>artist</th>\n",
       "      <th>genres</th>\n",
       "      <th>play_count</th>\n",
       "      <th>title</th>\n",
       "      <th>top_genre</th>\n",
       "    </tr>\n",
       "    <tr>\n",
       "      <th>fma_id</th>\n",
       "      <th></th>\n",
       "      <th></th>\n",
       "      <th></th>\n",
       "      <th></th>\n",
       "      <th></th>\n",
       "    </tr>\n",
       "  </thead>\n",
       "  <tbody>\n",
       "    <tr>\n",
       "      <th>2</th>\n",
       "      <td>AWOL</td>\n",
       "      <td>[Hip-Hop]</td>\n",
       "      <td>874</td>\n",
       "      <td>Food</td>\n",
       "      <td>Hip-Hop</td>\n",
       "    </tr>\n",
       "    <tr>\n",
       "      <th>3</th>\n",
       "      <td>AWOL</td>\n",
       "      <td>[Hip-Hop]</td>\n",
       "      <td>453</td>\n",
       "      <td>Electric Ave</td>\n",
       "      <td>Hip-Hop</td>\n",
       "    </tr>\n",
       "    <tr>\n",
       "      <th>5</th>\n",
       "      <td>AWOL</td>\n",
       "      <td>[Hip-Hop]</td>\n",
       "      <td>1108</td>\n",
       "      <td>This World</td>\n",
       "      <td>Hip-Hop</td>\n",
       "    </tr>\n",
       "    <tr>\n",
       "      <th>10</th>\n",
       "      <td>Kurt Vile</td>\n",
       "      <td>[Pop]</td>\n",
       "      <td>42936</td>\n",
       "      <td>Freeway</td>\n",
       "      <td>Pop</td>\n",
       "    </tr>\n",
       "    <tr>\n",
       "      <th>20</th>\n",
       "      <td>Nicky Cook</td>\n",
       "      <td>[Experimental Pop, Singer-Songwriter]</td>\n",
       "      <td>288</td>\n",
       "      <td>Spiritual Level</td>\n",
       "      <td>Experimental Pop</td>\n",
       "    </tr>\n",
       "  </tbody>\n",
       "</table>\n",
       "</div>"
      ],
      "text/plain": [
       "            artist                                 genres  play_count  \\\n",
       "fma_id                                                                  \n",
       "2             AWOL                              [Hip-Hop]         874   \n",
       "3             AWOL                              [Hip-Hop]         453   \n",
       "5             AWOL                              [Hip-Hop]        1108   \n",
       "10       Kurt Vile                                  [Pop]       42936   \n",
       "20      Nicky Cook  [Experimental Pop, Singer-Songwriter]         288   \n",
       "\n",
       "                  title         top_genre  \n",
       "fma_id                                     \n",
       "2                  Food           Hip-Hop  \n",
       "3          Electric Ave           Hip-Hop  \n",
       "5            This World           Hip-Hop  \n",
       "10              Freeway               Pop  \n",
       "20      Spiritual Level  Experimental Pop  "
      ]
     },
     "execution_count": 5,
     "metadata": {},
     "output_type": "execute_result"
    }
   ],
   "source": [
    "# Remove songs without genre.\n",
    "print('Number of songs without genre: {}'.format(len(df)-len(df.genres.dropna())))\n",
    "df = df.dropna()\n",
    "print('Number of songs: {}'.format(len(df)))\n",
    "\n",
    "# Extract canonical genre\n",
    "df['genres'] = df['genres'].map(lambda row: map(lambda x: x['genre_title'], row))\n",
    "df['top_genre'] = df['genres'].map(lambda x: x[0])\n",
    "df.head()"
   ]
  },
  {
   "cell_type": "code",
   "execution_count": 6,
   "metadata": {
    "collapsed": false
   },
   "outputs": [
    {
     "name": "stdout",
     "output_type": "stream",
     "text": [
      "Number of genres: 138\n",
      "Number of genres: 68\n",
      "Number of songs: 77643\n"
     ]
    }
   ],
   "source": [
    "# Remove genres with less than n songs.\n",
    "n = 100\n",
    "top_genres = df['top_genre'].value_counts()\n",
    "print('Number of genres: {}'.format(len(top_genres)))\n",
    "top_genres = top_genres[top_genres.values > n]\n",
    "print('Number of genres: {}'.format(len(top_genres)))\n",
    "\n",
    "# Filter songs that are not in the top genres\n",
    "df = df[df.top_genre.isin(top_genres.index)]\n",
    "print('Number of songs: {}'.format(len(df)))\n",
    "\n",
    "#top_genres"
   ]
  },
  {
   "cell_type": "code",
   "execution_count": 7,
   "metadata": {
    "collapsed": false
   },
   "outputs": [],
   "source": [
    "path = os.path.join(DATA_DIR, 'datasets_mdeff', 'fma_large')\n",
    "df.to_json(os.path.join(path, 'fma_large.json'))"
   ]
  },
  {
   "cell_type": "markdown",
   "metadata": {},
   "source": [
    "## 2 Medium: echonest features, 20 unbalenced genres"
   ]
  },
  {
   "cell_type": "code",
   "execution_count": 8,
   "metadata": {
    "collapsed": false
   },
   "outputs": [],
   "source": [
    "if False:\n",
    "    # Check echonest features\n",
    "    res = r.db('fma').table('log').filter({'status_code': 0}).pluck('id').run(conn)\n",
    "    idx = map(lambda x: x['id'], res)\n",
    "    print('Number of songs without echonest features: {}'.format(len(idx)))\n",
    "\n",
    "    df = df[~df.index.isin(error_ids)]\n",
    "    print('Number of songs: {}'.format(len(df)))"
   ]
  },
  {
   "cell_type": "code",
   "execution_count": 9,
   "metadata": {
    "collapsed": false
   },
   "outputs": [
    {
     "name": "stdout",
     "output_type": "stream",
     "text": [
      "Echonest: (14570, 25)\n",
      "Dataset: (77643, 5)\n",
      "Dataset: (14511, 29)\n"
     ]
    },
    {
     "data": {
      "text/html": [
       "<div>\n",
       "<table border=\"1\" class=\"dataframe\">\n",
       "  <thead>\n",
       "    <tr style=\"text-align: right;\">\n",
       "      <th></th>\n",
       "      <th>artist</th>\n",
       "      <th>genres</th>\n",
       "      <th>play_count</th>\n",
       "      <th>title</th>\n",
       "      <th>top_genre</th>\n",
       "      <th>acousticness</th>\n",
       "      <th>album_date</th>\n",
       "      <th>album_name</th>\n",
       "      <th>artist_discovery</th>\n",
       "      <th>artist_discovery_rank</th>\n",
       "      <th>...</th>\n",
       "      <th>liveness</th>\n",
       "      <th>release</th>\n",
       "      <th>song_currency</th>\n",
       "      <th>song_currency_rank</th>\n",
       "      <th>song_hotttnesss</th>\n",
       "      <th>song_hotttnesss_rank</th>\n",
       "      <th>speechiness</th>\n",
       "      <th>tempo</th>\n",
       "      <th>temporal_echonest_features</th>\n",
       "      <th>valence</th>\n",
       "    </tr>\n",
       "    <tr>\n",
       "      <th>fma_id</th>\n",
       "      <th></th>\n",
       "      <th></th>\n",
       "      <th></th>\n",
       "      <th></th>\n",
       "      <th></th>\n",
       "      <th></th>\n",
       "      <th></th>\n",
       "      <th></th>\n",
       "      <th></th>\n",
       "      <th></th>\n",
       "      <th></th>\n",
       "      <th></th>\n",
       "      <th></th>\n",
       "      <th></th>\n",
       "      <th></th>\n",
       "      <th></th>\n",
       "      <th></th>\n",
       "      <th></th>\n",
       "      <th></th>\n",
       "      <th></th>\n",
       "      <th></th>\n",
       "    </tr>\n",
       "  </thead>\n",
       "  <tbody>\n",
       "    <tr>\n",
       "      <th>2</th>\n",
       "      <td>AWOL</td>\n",
       "      <td>[Hip-Hop]</td>\n",
       "      <td>874</td>\n",
       "      <td>Food</td>\n",
       "      <td>Hip-Hop</td>\n",
       "      <td>0.416675</td>\n",
       "      <td>NaN</td>\n",
       "      <td>NaN</td>\n",
       "      <td>0.388990</td>\n",
       "      <td>NaN</td>\n",
       "      <td>...</td>\n",
       "      <td>0.177647</td>\n",
       "      <td>AWOL - A Way Of Life</td>\n",
       "      <td>0.000000</td>\n",
       "      <td>NaN</td>\n",
       "      <td>0.000000</td>\n",
       "      <td>NaN</td>\n",
       "      <td>0.159310</td>\n",
       "      <td>165.922</td>\n",
       "      <td>[0.87723326683, 0.588911116123, 0.354243010283...</td>\n",
       "      <td>0.576661</td>\n",
       "    </tr>\n",
       "    <tr>\n",
       "      <th>3</th>\n",
       "      <td>AWOL</td>\n",
       "      <td>[Hip-Hop]</td>\n",
       "      <td>453</td>\n",
       "      <td>Electric Ave</td>\n",
       "      <td>Hip-Hop</td>\n",
       "      <td>0.374408</td>\n",
       "      <td>NaN</td>\n",
       "      <td>NaN</td>\n",
       "      <td>0.388990</td>\n",
       "      <td>NaN</td>\n",
       "      <td>...</td>\n",
       "      <td>0.105880</td>\n",
       "      <td>AWOL - A Way Of Life</td>\n",
       "      <td>0.000000</td>\n",
       "      <td>NaN</td>\n",
       "      <td>0.000000</td>\n",
       "      <td>NaN</td>\n",
       "      <td>0.461818</td>\n",
       "      <td>126.957</td>\n",
       "      <td>[0.534429132938, 0.537414252758, 0.44329947233...</td>\n",
       "      <td>0.269240</td>\n",
       "    </tr>\n",
       "    <tr>\n",
       "      <th>5</th>\n",
       "      <td>AWOL</td>\n",
       "      <td>[Hip-Hop]</td>\n",
       "      <td>1108</td>\n",
       "      <td>This World</td>\n",
       "      <td>Hip-Hop</td>\n",
       "      <td>0.043567</td>\n",
       "      <td>NaN</td>\n",
       "      <td>NaN</td>\n",
       "      <td>0.388990</td>\n",
       "      <td>NaN</td>\n",
       "      <td>...</td>\n",
       "      <td>0.373143</td>\n",
       "      <td>AWOL - A Way Of Life</td>\n",
       "      <td>0.000000</td>\n",
       "      <td>NaN</td>\n",
       "      <td>0.000000</td>\n",
       "      <td>NaN</td>\n",
       "      <td>0.124595</td>\n",
       "      <td>100.260</td>\n",
       "      <td>[0.548092544079, 0.720191776752, 0.38925707340...</td>\n",
       "      <td>0.621661</td>\n",
       "    </tr>\n",
       "    <tr>\n",
       "      <th>10</th>\n",
       "      <td>Kurt Vile</td>\n",
       "      <td>[Pop]</td>\n",
       "      <td>42936</td>\n",
       "      <td>Freeway</td>\n",
       "      <td>Pop</td>\n",
       "      <td>0.951670</td>\n",
       "      <td>2008-03-11</td>\n",
       "      <td>Constant Hitmaker</td>\n",
       "      <td>0.557339</td>\n",
       "      <td>2635</td>\n",
       "      <td>...</td>\n",
       "      <td>0.115474</td>\n",
       "      <td>Constant Hitmaker</td>\n",
       "      <td>0.005158</td>\n",
       "      <td>115691</td>\n",
       "      <td>0.354516</td>\n",
       "      <td>67609</td>\n",
       "      <td>0.032985</td>\n",
       "      <td>111.562</td>\n",
       "      <td>[0.311404168606, 0.711402356625, 0.32191380858...</td>\n",
       "      <td>0.963590</td>\n",
       "    </tr>\n",
       "    <tr>\n",
       "      <th>134</th>\n",
       "      <td>AWOL</td>\n",
       "      <td>[Hip-Hop]</td>\n",
       "      <td>880</td>\n",
       "      <td>Street Music</td>\n",
       "      <td>Hip-Hop</td>\n",
       "      <td>0.452217</td>\n",
       "      <td>NaN</td>\n",
       "      <td>NaN</td>\n",
       "      <td>0.388990</td>\n",
       "      <td>NaN</td>\n",
       "      <td>...</td>\n",
       "      <td>0.096567</td>\n",
       "      <td>AWOL - A Way Of Life</td>\n",
       "      <td>0.000000</td>\n",
       "      <td>NaN</td>\n",
       "      <td>0.000000</td>\n",
       "      <td>NaN</td>\n",
       "      <td>0.525519</td>\n",
       "      <td>114.290</td>\n",
       "      <td>[0.610849261284, 0.569169461727, 0.42849382758...</td>\n",
       "      <td>0.894072</td>\n",
       "    </tr>\n",
       "  </tbody>\n",
       "</table>\n",
       "<p>5 rows × 29 columns</p>\n",
       "</div>"
      ],
      "text/plain": [
       "           artist     genres  play_count         title top_genre  \\\n",
       "fma_id                                                             \n",
       "2            AWOL  [Hip-Hop]         874          Food   Hip-Hop   \n",
       "3            AWOL  [Hip-Hop]         453  Electric Ave   Hip-Hop   \n",
       "5            AWOL  [Hip-Hop]        1108    This World   Hip-Hop   \n",
       "10      Kurt Vile      [Pop]       42936       Freeway       Pop   \n",
       "134          AWOL  [Hip-Hop]         880  Street Music   Hip-Hop   \n",
       "\n",
       "        acousticness  album_date         album_name  artist_discovery  \\\n",
       "fma_id                                                                  \n",
       "2           0.416675         NaN                NaN          0.388990   \n",
       "3           0.374408         NaN                NaN          0.388990   \n",
       "5           0.043567         NaN                NaN          0.388990   \n",
       "10          0.951670  2008-03-11  Constant Hitmaker          0.557339   \n",
       "134         0.452217         NaN                NaN          0.388990   \n",
       "\n",
       "        artist_discovery_rank    ...     liveness               release  \\\n",
       "fma_id                           ...                                      \n",
       "2                         NaN    ...     0.177647  AWOL - A Way Of Life   \n",
       "3                         NaN    ...     0.105880  AWOL - A Way Of Life   \n",
       "5                         NaN    ...     0.373143  AWOL - A Way Of Life   \n",
       "10                       2635    ...     0.115474     Constant Hitmaker   \n",
       "134                       NaN    ...     0.096567  AWOL - A Way Of Life   \n",
       "\n",
       "        song_currency  song_currency_rank song_hotttnesss  \\\n",
       "fma_id                                                      \n",
       "2            0.000000                 NaN        0.000000   \n",
       "3            0.000000                 NaN        0.000000   \n",
       "5            0.000000                 NaN        0.000000   \n",
       "10           0.005158              115691        0.354516   \n",
       "134          0.000000                 NaN        0.000000   \n",
       "\n",
       "       song_hotttnesss_rank  speechiness    tempo  \\\n",
       "fma_id                                              \n",
       "2                       NaN     0.159310  165.922   \n",
       "3                       NaN     0.461818  126.957   \n",
       "5                       NaN     0.124595  100.260   \n",
       "10                    67609     0.032985  111.562   \n",
       "134                     NaN     0.525519  114.290   \n",
       "\n",
       "                               temporal_echonest_features   valence  \n",
       "fma_id                                                               \n",
       "2       [0.87723326683, 0.588911116123, 0.354243010283...  0.576661  \n",
       "3       [0.534429132938, 0.537414252758, 0.44329947233...  0.269240  \n",
       "5       [0.548092544079, 0.720191776752, 0.38925707340...  0.621661  \n",
       "10      [0.311404168606, 0.711402356625, 0.32191380858...  0.963590  \n",
       "134     [0.610849261284, 0.569169461727, 0.42849382758...  0.894072  \n",
       "\n",
       "[5 rows x 29 columns]"
      ]
     },
     "execution_count": 9,
     "metadata": {},
     "output_type": "execute_result"
    }
   ],
   "source": [
    "df_echonest = mjf.db.get_from_songs_and_tracks(dataset_name, conn, mjf.db.ALL_KEYS)\n",
    "print('Echonest: {}'.format(df_echonest.shape))\n",
    "print('Dataset: {}'.format(df.shape))\n",
    "df = df[df.index.isin(df_echonest.index)]\n",
    "df = df.join(df_echonest.drop('title', axis=1))\n",
    "print('Dataset: {}'.format(df.shape))\n",
    "# album_name and album_date are often unknown (NaN)\n",
    "df.head()"
   ]
  },
  {
   "cell_type": "code",
   "execution_count": 10,
   "metadata": {
    "collapsed": false
   },
   "outputs": [
    {
     "name": "stdout",
     "output_type": "stream",
     "text": [
      "Number of songs: 14511\n"
     ]
    }
   ],
   "source": [
    "df = df[~df.title.str.startswith('Untitled')]\n",
    "print('Number of songs: {}'.format(len(df)))"
   ]
  },
  {
   "cell_type": "code",
   "execution_count": 11,
   "metadata": {
    "collapsed": false
   },
   "outputs": [
    {
     "name": "stdout",
     "output_type": "stream",
     "text": [
      "Number of songs: 14511\n",
      "Number of genres: 20\n",
      "Number of genres: 20\n",
      "Number of songs: 14511\n"
     ]
    },
    {
     "data": {
      "text/plain": [
       "Electronic             2962\n",
       "Rock                   2385\n",
       "Pop                    1636\n",
       "Hip-Hop                1059\n",
       "Folk                   1025\n",
       "Punk                    882\n",
       "Indie-Rock              601\n",
       "Jazz                    588\n",
       "Old-Time / Historic     460\n",
       "Psych-Rock              456\n",
       "International           431\n",
       "Classical               408\n",
       "Chiptune                254\n",
       "Blues                   245\n",
       "Psych-Folk              245\n",
       "Post-Punk               222\n",
       "Metal                   191\n",
       "Soundtrack              172\n",
       "Trip-Hop                171\n",
       "Post-Rock               118\n",
       "Name: top_genre, dtype: int64"
      ]
     },
     "execution_count": 11,
     "metadata": {},
     "output_type": "execute_result"
    }
   ],
   "source": [
    "def filter_bad_genres(df, bad_genres=['Avant-Garde', \n",
    "                                      'Experimental', \n",
    "                                      'Noise', 'Ambient', 'Garage', 'Sound Collage', 'Singer',\n",
    "                                      'Audio Collage', 'Glitch', 'Unclassifiable', 'Lo-Fi',\n",
    "                                      'Spoken', 'Poetry', 'Talk Radio', 'Field Recording']):\n",
    "    def impl(genres):\n",
    "        for g in genres:\n",
    "            for b in bad_genres:\n",
    "                if g.startswith(b):\n",
    "                    return False\n",
    "        return True\n",
    "        \n",
    "    return df[df['genres'].apply(impl)]\n",
    "\n",
    "# Keep the top n genres.\n",
    "nb_genres = 20\n",
    "df = filter_bad_genres(df)\n",
    "\n",
    "# Filter songs that are not in the selected genres\n",
    "print('Number of songs: {}'.format(len(df)))\n",
    "print('Number of genres: {}'.format(len(df['top_genre'].unique())))\n",
    "top_genres = df['top_genre'].value_counts()\n",
    "df = df[df.top_genre.isin(top_genres[:nb_genres].index)]\n",
    "print('Number of genres: {}'.format(len(df['top_genre'].unique())))\n",
    "print('Number of songs: {}'.format(len(df)))\n",
    "\n",
    "df['top_genre'].value_counts()"
   ]
  },
  {
   "cell_type": "code",
   "execution_count": 12,
   "metadata": {
    "collapsed": false,
    "scrolled": true
   },
   "outputs": [],
   "source": [
    "#top_genres = ['Electronic', 'Rock', 'Pop', 'Folk', 'Punk', 'Hip-Hop', 'Soundtrack',\n",
    "#              'Blues', 'Jazz', 'Indie-Rock', 'International', 'Classical', \n",
    "#              'Psych-Rock', 'Psych-Folk', 'Old-Time / Historic', 'Post-Rock', 'Metal', 'Chiptune', 'Post-Punk',\n",
    "#              'Trip-Hop']\n",
    "#\n",
    "#top_genres = ['Electronic', 'Rock', 'Pop', 'Hip-Hop', 'Folk', 'Punk', 'Jazz', 'Indie-Rock', 'Psych-Rock',\n",
    "#              'Old-Time / Historic', 'International', 'Classical', 'Chip Music', 'Country',\n",
    "#              'Electroacoustic', 'Reggae - Dub', 'Chiptune', 'Blues', 'Psych-Folk', 'Soul-RnB']"
   ]
  },
  {
   "cell_type": "code",
   "execution_count": 13,
   "metadata": {
    "collapsed": false
   },
   "outputs": [
    {
     "name": "stdout",
     "output_type": "stream",
     "text": [
      "(847, 0.79981114258734654, u'Hip-Hop')\n",
      "(1308, 0.79951100244498774, u'Pop')\n",
      "(820, 0.80000000000000004, u'Folk')\n",
      "(470, 0.79931972789115646, u'Jazz')\n",
      "(94, 0.79661016949152541, u'Post-Rock')\n",
      "(705, 0.79931972789115646, u'Punk')\n",
      "(2369, 0.79979743416610394, u'Electronic')\n",
      "(1908, 0.80000000000000004, u'Rock')\n",
      "(152, 0.79581151832460728, u'Metal')\n",
      "(177, 0.79729729729729726, u'Post-Punk')\n",
      "(196, 0.80000000000000004, u'Blues')\n",
      "(344, 0.79814385150812062, u'International')\n",
      "(364, 0.79824561403508776, u'Psych-Rock')\n",
      "(480, 0.79866888519134771, u'Indie-Rock')\n",
      "(196, 0.80000000000000004, u'Psych-Folk')\n",
      "(326, 0.7990196078431373, u'Classical')\n",
      "(368, 0.80000000000000004, u'Old-Time / Historic')\n",
      "(136, 0.79532163742690054, u'Trip-Hop')\n",
      "(137, 0.79651162790697672, u'Soundtrack')\n",
      "(203, 0.79921259842519687, u'Chiptune')\n",
      "(11600, 0.79939356350354906, 'Overall')\n"
     ]
    }
   ],
   "source": [
    "def split_train_test(df):\n",
    "    \"\"\"Split between training and testing set. An artist only appears on one side.\"\"\"\n",
    "    for genre in df['top_genre'].unique():\n",
    "        df_genre = df[df['top_genre'] == genre]\n",
    "        train_target = int(len(df_genre) * 0.8)\n",
    "        test_target = len(df_genre) - train_target\n",
    "        #print(train_target, test_target)\n",
    "        train_current, test_current = 0, 0\n",
    "        artists = df_genre['artist'].value_counts()\n",
    "        for artist, count in zip(artists.index, artists.values):\n",
    "            df_artist = df_genre[df_genre['artist'] == artist]\n",
    "            if float(train_target - train_current) / train_target >= float(test_target - test_current) / test_target:\n",
    "                train = True\n",
    "                train_current += count\n",
    "            else:\n",
    "                train = False\n",
    "                test_current += count\n",
    "            df.ix[(df['top_genre'] == genre) & (df['artist'] == artist), 'train'] = train\n",
    "        #print(train_current, test_current)\n",
    "    return df\n",
    "\n",
    "def show_split(df):\n",
    "    for genre in df.top_genre.unique():\n",
    "        tmp = df[df['top_genre'] == genre]\n",
    "        ntrain = sum(tmp['train'] == True)\n",
    "        print(ntrain, ntrain * 1.0 / len(tmp), genre)\n",
    "\n",
    "    ntrain = sum(df['train'] == True) \n",
    "    print(ntrain, ntrain * 1.0 / len(df), 'Overall')\n",
    "\n",
    "df = split_train_test(df)\n",
    "show_split(df)"
   ]
  },
  {
   "cell_type": "code",
   "execution_count": 14,
   "metadata": {
    "collapsed": true
   },
   "outputs": [],
   "source": [
    "def create_dataset(df, path):\n",
    "    from shutil import copyfile\n",
    "\n",
    "    for index, row in df.iterrows():\n",
    "        genre = row['top_genre']\n",
    "        if genre.startswith('Old-Time'):\n",
    "            genre = 'Old-Time'\n",
    "\n",
    "        src = os.path.join(CLIP_DIR, 'clip_{}.mp3'.format(index))\n",
    "        \n",
    "        dst_folder = os.path.join(path, genre)\n",
    "        if not os.path.exists(dst_folder):\n",
    "            os.mkdir(dst_folder)\n",
    "\n",
    "        #dst = os.path.join(dst_folder, '{:06d}.mp3'.format(index))\n",
    "        dst = os.path.join(dst_folder, '{}.mp3'.format(index))\n",
    "        copyfile(src, dst)\n",
    "\n",
    "path = os.path.join(DATA_DIR, 'datasets_mdeff', 'fma_medium')\n",
    "df.to_json(os.path.join(path, 'fma_medium.json'))\n",
    "create_dataset(df, path)"
   ]
  },
  {
   "cell_type": "markdown",
   "metadata": {},
   "source": [
    "## 3 Small: 10 balanced genres"
   ]
  },
  {
   "cell_type": "code",
   "execution_count": 15,
   "metadata": {
    "collapsed": false
   },
   "outputs": [
    {
     "name": "stdout",
     "output_type": "stream",
     "text": [
      "Number of songs: 14511\n",
      "Number of genres: 20\n",
      "Number of genres: 10\n",
      "Number of songs: 12054\n"
     ]
    },
    {
     "data": {
      "text/plain": [
       "Electronic             2962\n",
       "Rock                   2385\n",
       "Pop                    1636\n",
       "Hip-Hop                1059\n",
       "Folk                   1025\n",
       "Punk                    882\n",
       "Indie-Rock              601\n",
       "Jazz                    588\n",
       "Old-Time / Historic     460\n",
       "Psych-Rock              456\n",
       "Name: top_genre, dtype: int64"
      ]
     },
     "execution_count": 15,
     "metadata": {},
     "output_type": "execute_result"
    }
   ],
   "source": [
    "nb_genres = 10\n",
    "\n",
    "# Filter songs that are not in the selected genres\n",
    "print('Number of songs: {}'.format(len(df)))\n",
    "print('Number of genres: {}'.format(len(df['top_genre'].unique())))\n",
    "top_genres = df['top_genre'].value_counts()\n",
    "df = df[df.top_genre.isin(top_genres[:nb_genres].index)]\n",
    "print('Number of genres: {}'.format(len(df['top_genre'].unique())))\n",
    "print('Number of songs: {}'.format(len(df)))\n",
    "\n",
    "df['top_genre'].value_counts()"
   ]
  },
  {
   "cell_type": "code",
   "execution_count": 16,
   "metadata": {
    "collapsed": false
   },
   "outputs": [
    {
     "name": "stdout",
     "output_type": "stream",
     "text": [
      "Dataset: (4000, 30)\n"
     ]
    }
   ],
   "source": [
    "nb_samples = 400\n",
    "df = df.groupby('top_genre').apply(lambda x: x.sample(nb_samples, random_state=42)).reset_index(level=0, drop=True)\n",
    "\n",
    "print('Dataset: {}'.format(df.shape))\n",
    "#df.head()"
   ]
  },
  {
   "cell_type": "code",
   "execution_count": 17,
   "metadata": {
    "collapsed": false
   },
   "outputs": [
    {
     "name": "stdout",
     "output_type": "stream",
     "text": [
      "(320, 0.80000000000000004, u'Electronic')\n",
      "(320, 0.80000000000000004, u'Folk')\n",
      "(320, 0.80000000000000004, u'Hip-Hop')\n",
      "(320, 0.80000000000000004, u'Indie-Rock')\n",
      "(320, 0.80000000000000004, u'Jazz')\n",
      "(320, 0.80000000000000004, u'Old-Time / Historic')\n",
      "(320, 0.80000000000000004, u'Pop')\n",
      "(320, 0.80000000000000004, u'Psych-Rock')\n",
      "(320, 0.80000000000000004, u'Punk')\n",
      "(320, 0.80000000000000004, u'Rock')\n",
      "(3200, 0.80000000000000004, 'Overall')\n"
     ]
    }
   ],
   "source": [
    "df = split_train_test(df)\n",
    "show_split(df)"
   ]
  },
  {
   "cell_type": "code",
   "execution_count": 18,
   "metadata": {
    "collapsed": false
   },
   "outputs": [],
   "source": [
    "path = os.path.join(DATA_DIR, 'datasets_mdeff', 'fma_small')\n",
    "df.to_json(os.path.join(path, 'fma_small.json'))\n",
    "create_dataset(df, path)"
   ]
  }
 ],
 "metadata": {
  "kernelspec": {
   "display_name": "Python 2",
   "language": "python",
   "name": "python2"
  },
  "language_info": {
   "codemirror_mode": {
    "name": "ipython",
    "version": 2
   },
   "file_extension": ".py",
   "mimetype": "text/x-python",
   "name": "python",
   "nbconvert_exporter": "python",
   "pygments_lexer": "ipython2",
   "version": "2.7.6"
  }
 },
 "nbformat": 4,
 "nbformat_minor": 0
}
