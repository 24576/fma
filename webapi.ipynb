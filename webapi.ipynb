{
 "cells": [
  {
   "cell_type": "markdown",
   "metadata": {},
   "source": [
    "# FMA: A Dataset For Music Analysis\n",
    "\n",
    "Kirell Benzi, Michaël Defferrard, Pierre Vandergheynst, Xavier Bresson, EPFL LTS2.\n",
    "\n",
    "## Free Music Archive web API\n",
    "\n",
    "All the data in the `fma.json` DataFrame was collected from the Free Music Archive [public API](https://freemusicarchive.org/api). With this notebook, you can:\n",
    "* reconstruct the original data, \n",
    "* update some fields, e.g. the `track_listens` (play count),\n",
    "* augment the data with other (potentially newer) fields provided by their API but not included in the release,\n",
    "* update the dataset with new songs added to the archive.\n",
    "\n",
    "Notes:\n",
    "* You need a key to access the API, which you can [request online](https://freemusicarchive.org/api/agreement) and write into your `.env` file as a new line reading `FMA_KEY=MYPERSONALKEY`.\n",
    "* Requests take some hunderd milliseconds to complete."
   ]
  },
  {
   "cell_type": "code",
   "execution_count": null,
   "metadata": {
    "collapsed": false
   },
   "outputs": [],
   "source": [
    "import utils\n",
    "import IPython.display as ipd\n",
    "import requests\n",
    "import os"
   ]
  },
  {
   "cell_type": "code",
   "execution_count": null,
   "metadata": {
    "collapsed": false
   },
   "outputs": [],
   "source": [
    "fma = utils.FreeMusicArchive(os.environ.get('FMA_KEY'))"
   ]
  },
  {
   "cell_type": "markdown",
   "metadata": {},
   "source": [
    "## 1 Get recently added tracks\n",
    "\n",
    "Note that `track_id` are assigned in monotonically increasing order. Tracks may be removed, so that number does not indicate the number of available tracks."
   ]
  },
  {
   "cell_type": "code",
   "execution_count": null,
   "metadata": {
    "collapsed": false
   },
   "outputs": [],
   "source": [
    "for track_id, artist_name, date_created in zip(*fma.get_recent_tracks()):\n",
    "    print(track_id, date_created, artist_name)"
   ]
  },
  {
   "cell_type": "markdown",
   "metadata": {},
   "source": [
    "## 2 Get meta-data about tracks, albums and artists\n",
    "\n",
    "Given IDs, we can get information about tracks, albums and artists. See the available fields in the [API documentation](https://freemusicarchive.org/api)."
   ]
  },
  {
   "cell_type": "code",
   "execution_count": null,
   "metadata": {
    "collapsed": false
   },
   "outputs": [],
   "source": [
    "fma.get_track(track_id=2, fields=['track_title', 'track_date_created',\n",
    "                                  'track_duration', 'track_bit_rate',\n",
    "                                  'track_listens', 'track_interest', 'track_comments', 'track_favorites',\n",
    "                                  'artist_id', 'album_id'])"
   ]
  },
  {
   "cell_type": "code",
   "execution_count": null,
   "metadata": {
    "collapsed": false
   },
   "outputs": [],
   "source": [
    "fma.get_track_genres(track_id=20)"
   ]
  },
  {
   "cell_type": "code",
   "execution_count": null,
   "metadata": {
    "collapsed": false
   },
   "outputs": [],
   "source": [
    "fma.get_album(album_id=1, fields=['album_title', 'album_tracks',\n",
    "                                  'album_listens', 'album_comments', 'album_favorites',\n",
    "                                  'album_date_created', 'album_date_released'])"
   ]
  },
  {
   "cell_type": "code",
   "execution_count": null,
   "metadata": {
    "collapsed": false
   },
   "outputs": [],
   "source": [
    "fma.get_artist(artist_id=1, fields=['artist_name', 'artist_location',\n",
    "                                    'artist_comments', 'artist_favorites'])"
   ]
  },
  {
   "cell_type": "markdown",
   "metadata": {},
   "source": [
    "## 3 Get data, i.e. raw audio\n",
    "\n",
    "We can download the original track as well. Tracks are provided by the archive as MP3 with various bitrates."
   ]
  },
  {
   "cell_type": "code",
   "execution_count": null,
   "metadata": {
    "collapsed": false
   },
   "outputs": [],
   "source": [
    "fma.download_track(track_id=2, path='track.mp3')"
   ]
  },
  {
   "cell_type": "markdown",
   "metadata": {},
   "source": [
    "## 4 Get genres\n",
    "\n",
    "Instead of compiling the genres of each track, we can get all the genres present on the archive by some API calls."
   ]
  },
  {
   "cell_type": "code",
   "execution_count": null,
   "metadata": {
    "collapsed": false,
    "deletable": true,
    "editable": true
   },
   "outputs": [],
   "source": [
    "genres = utils.Genres(fma.get_all_genres())\n",
    "print('{} genres'.format(genres.df.shape[0]))\n",
    "genres.df[10:25]"
   ]
  },
  {
   "cell_type": "markdown",
   "metadata": {},
   "source": [
    "And look for genres related to Rock."
   ]
  },
  {
   "cell_type": "code",
   "execution_count": null,
   "metadata": {
    "collapsed": false
   },
   "outputs": [],
   "source": [
    "genres.df[['Rock' in title for title in genres.df['genre_title']]]"
   ]
  },
  {
   "cell_type": "code",
   "execution_count": null,
   "metadata": {
    "collapsed": false,
    "deletable": true,
    "editable": true
   },
   "outputs": [],
   "source": [
    "genres.df[genres.df['genre_parent_id'] == 12]"
   ]
  },
  {
   "cell_type": "markdown",
   "metadata": {},
   "source": [
    "As genres have parent genres, we can plot a tree using the [DOT] language.\n",
    "\n",
    "[DOT]: https://en.wikipedia.org/wiki/DOT_(graph_description_language)"
   ]
  },
  {
   "cell_type": "code",
   "execution_count": null,
   "metadata": {
    "collapsed": false
   },
   "outputs": [],
   "source": [
    "graph = genres.create_tree([25, 31], 1)\n",
    "ipd.Image(graph.create_png())"
   ]
  },
  {
   "cell_type": "markdown",
   "metadata": {},
   "source": [
    "Data cleaning: some genres returned by the archive have a `parent_id` which does not exist."
   ]
  },
  {
   "cell_type": "code",
   "execution_count": null,
   "metadata": {
    "collapsed": false
   },
   "outputs": [],
   "source": [
    "# 13 (Easy Listening) has parent 126 which is missing\n",
    "# --> a root genre on the website, although not in the genre menu\n",
    "genres.df.loc[13, 'genre_parent_id'] = 0\n",
    "\n",
    "# 580 (Abstract Hip-Hop) has parent 1172 which is missing\n",
    "# --> listed as child of Hip-Hop on the website\n",
    "genres.df.loc[580, 'genre_parent_id'] = 21\n",
    "\n",
    "# 810 (Nu-Jazz) has parent 51 which is missing\n",
    "# --> listed as child of Easy Listening on website\n",
    "genres.df.loc[810, 'genre_parent_id'] = 13"
   ]
  },
  {
   "cell_type": "markdown",
   "metadata": {},
   "source": [
    "Save the full genre tree as a PDF."
   ]
  },
  {
   "cell_type": "code",
   "execution_count": null,
   "metadata": {
    "collapsed": false
   },
   "outputs": [],
   "source": [
    "roots = genres.find_roots()\n",
    "print('{} roots'.format(len(roots)))\n",
    "graph = genres.create_tree(roots)\n",
    "graph.write_pdf('genres.pdf');"
   ]
  }
 ],
 "metadata": {
  "kernelspec": {
   "display_name": "Python 3",
   "language": "python",
   "name": "python3"
  },
  "language_info": {
   "codemirror_mode": {
    "name": "ipython",
    "version": 3
   },
   "file_extension": ".py",
   "mimetype": "text/x-python",
   "name": "python",
   "nbconvert_exporter": "python",
   "pygments_lexer": "ipython3",
   "version": "3.6.0"
  }
 },
 "nbformat": 4,
 "nbformat_minor": 2
}
