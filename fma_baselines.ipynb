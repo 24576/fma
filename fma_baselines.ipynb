{
 "cells": [
  {
   "cell_type": "markdown",
   "metadata": {
    "deletable": true,
    "editable": true
   },
   "source": [
    "# FMA: A Dataset For Music Analysis\n",
    "\n",
    "Kirell Benzi, Michaël Defferrard, Pierre Vandergheynst, Xavier Bresson, EPFL LTS2.\n",
    "\n",
    "## Baselines\n",
    "\n",
    "We explore three types of baselines:\n",
    "1. simple algorithms,\n",
    "2. state-of-the-art in genre recognition,\n",
    "3. deep Learning approaches,\n",
    "\n",
    "using different input features:\n",
    "1. raw audio,\n",
    "2. echonest features,\n",
    "3. audio features from librosa or [kapre](https://github.com/keunwoochoi/kapre).\n",
    "\n",
    "We aim at showing that given sufficient data, DL approaches can outperfom all the others without domain-specific / expert knowledge."
   ]
  },
  {
   "cell_type": "code",
   "execution_count": null,
   "metadata": {
    "collapsed": false,
    "deletable": true,
    "editable": true
   },
   "outputs": [],
   "source": [
    "%load_ext autoreload\n",
    "%autoreload 2\n",
    "%load_ext dotenv\n",
    "%dotenv .env\n",
    "%matplotlib inline\n",
    "\n",
    "import utils\n",
    "import keras\n",
    "import matplotlib.pyplot as plt\n",
    "import pandas as pd\n",
    "import numpy as np\n",
    "import IPython.display as ipd\n",
    "import time\n",
    "import os\n",
    "\n",
    "from sklearn.preprocessing import MultiLabelBinarizer, LabelEncoder, LabelBinarizer, StandardScaler\n",
    "from sklearn.model_selection import train_test_split\n",
    "from sklearn.linear_model import LogisticRegression\n",
    "from sklearn.neighbors import KNeighborsClassifier\n",
    "from sklearn.svm import SVC, LinearSVC\n",
    "#from sklearn.gaussian_process import GaussianProcessClassifier\n",
    "#from sklearn.gaussian_process.kernels import RBF\n",
    "from sklearn.tree import DecisionTreeClassifier\n",
    "from sklearn.ensemble import RandomForestClassifier, AdaBoostClassifier\n",
    "from sklearn.neural_network import MLPClassifier\n",
    "from sklearn.naive_bayes import GaussianNB\n",
    "from sklearn.discriminant_analysis import QuadraticDiscriminantAnalysis\n",
    "from sklearn.multiclass import OneVsRestClassifier"
   ]
  },
  {
   "cell_type": "code",
   "execution_count": null,
   "metadata": {
    "collapsed": false,
    "deletable": true,
    "editable": true
   },
   "outputs": [],
   "source": [
    "DATA_DIR = os.environ.get('DATA_DIR')\n",
    "df = pd.read_json(os.path.join(DATA_DIR, 'fma_small.json'))\n",
    "path = utils.build_path(df, DATA_DIR)"
   ]
  },
  {
   "cell_type": "markdown",
   "metadata": {
    "deletable": true,
    "editable": true
   },
   "source": [
    "## 1 Simple classifiers on Echonest features\n",
    "\n",
    "Todo:\n",
    "* Cross-validation for hyper-parameters.\n",
    "* Dimensionality reduction?"
   ]
  },
  {
   "cell_type": "markdown",
   "metadata": {
    "deletable": true,
    "editable": true
   },
   "source": [
    "### 1.1 Pre-processing"
   ]
  },
  {
   "cell_type": "code",
   "execution_count": null,
   "metadata": {
    "collapsed": true,
    "deletable": true,
    "editable": true
   },
   "outputs": [],
   "source": [
    "# Select features.\n",
    "#features = utils.ECHONEST_AUDIO_FEATURES + utils.ECHONEST_SOCIAL_FEATURES\n",
    "features = utils.ECHONEST_AUDIO_FEATURES\n",
    "\n",
    "# Discard songs with NaN Echonest features.\n",
    "# TODO: fix dataset.\n",
    "keep = df[features].isnull().apply(lambda x: not x.any(), axis=1)\n",
    "df = pd.DataFrame(df[keep])"
   ]
  },
  {
   "cell_type": "code",
   "execution_count": null,
   "metadata": {
    "collapsed": false,
    "deletable": true,
    "editable": true,
    "scrolled": false
   },
   "outputs": [],
   "source": [
    "def pre_process(df, features, multi_label=False):\n",
    "    if not multi_label:\n",
    "        # Assign an integer value to each genre.\n",
    "        enc = LabelEncoder()\n",
    "        y = enc.fit_transform(df['top_genre'])\n",
    "    else:\n",
    "        # Create an indicator matrix.\n",
    "        enc = MultiLabelBinarizer()\n",
    "        y = enc.fit_transform(df['genres'])\n",
    "    print('Genres ({}): {}'.format(len(enc.classes_), enc.classes_))\n",
    "\n",
    "    X = df[features].as_matrix()\n",
    "    \n",
    "    # Split in training, validation and testing sets.\n",
    "    train = df['train'] == True\n",
    "    y_train = y[train]\n",
    "    y_test = y[~train]\n",
    "    X_train = X[train]\n",
    "    X_test = X[~train]\n",
    "    X_train, X_val, y_train, y_val = train_test_split(X_train, y_train, test_size=.2, random_state=42)\n",
    "    print('{} training examples, {} validation examples, {} testing examples'.format(y_train.shape[0], y_val.shape[0], y_test.shape[0]))\n",
    "    print('{} features'.format(X_train.shape[1]))\n",
    "    \n",
    "    # Standardize features by removing the mean and scaling to unit variance.\n",
    "    scaler = StandardScaler(copy=False)\n",
    "    scaler.fit_transform(X_train)\n",
    "    scaler.transform(X_val)\n",
    "    scaler.transform(X_test)\n",
    "    \n",
    "    return y_train, y_val, y_test, X_train, X_val, X_test"
   ]
  },
  {
   "cell_type": "markdown",
   "metadata": {
    "deletable": true,
    "editable": true
   },
   "source": [
    "### 1.2 Single genre\n",
    "\n",
    "Maximum observed is around 38%, both on `fma_small` and `fma_medium`."
   ]
  },
  {
   "cell_type": "code",
   "execution_count": null,
   "metadata": {
    "collapsed": false,
    "deletable": true,
    "editable": true
   },
   "outputs": [],
   "source": [
    "y_train, y_val, y_test, X_train, X_val, X_test = pre_process(df, features)\n",
    "\n",
    "classifiers = [\n",
    "    LogisticRegression(),\n",
    "    KNeighborsClassifier(n_neighbors=200),\n",
    "    SVC(),\n",
    "    SVC(kernel=\"linear\"),\n",
    "    LinearSVC(),\n",
    "    #GaussianProcessClassifier(1.0 * RBF(1.0), warm_start=True),\n",
    "    DecisionTreeClassifier(max_depth=5),\n",
    "    RandomForestClassifier(max_depth=5, n_estimators=10, max_features=1),\n",
    "    AdaBoostClassifier(n_estimators=10),\n",
    "    MLPClassifier(max_iter=400),\n",
    "    GaussianNB(),\n",
    "    QuadraticDiscriminantAnalysis(),\n",
    "]\n",
    "\n",
    "for clf in classifiers:\n",
    "    t = time.process_time()\n",
    "    clf.fit(X_train, y_train)\n",
    "    score = clf.score(X_test, y_test)\n",
    "    print('{:.2f}% {:.2f}s {}'.format(score*100, time.process_time()-t, type(clf).__name__))"
   ]
  },
  {
   "cell_type": "markdown",
   "metadata": {
    "deletable": true,
    "editable": true
   },
   "source": [
    "### 1.3 Multiple genres\n",
    "\n",
    "Maximum observed is around 11% for `fma_small` and 7.6% for `fma_medium`.\n",
    "\n",
    "TODO:\n",
    "* Eliminate rare genres. On small only the 10 selected genres are meaningful."
   ]
  },
  {
   "cell_type": "code",
   "execution_count": null,
   "metadata": {
    "collapsed": false,
    "deletable": true,
    "editable": true
   },
   "outputs": [],
   "source": [
    "y_train, y_val, y_test, X_train, X_val, X_test = pre_process(df, features, multi_label=True)\n",
    "\n",
    "classifiers = [\n",
    "    #LogisticRegression(),\n",
    "    OneVsRestClassifier(LogisticRegression()),\n",
    "    OneVsRestClassifier(SVC()),\n",
    "]\n",
    "\n",
    "for clf in classifiers:\n",
    "    t = time.process_time()\n",
    "    clf.fit(X_train, y_train)\n",
    "    score = clf.score(X_test, y_test)\n",
    "    print('{:.2f}% {:.2f}s {}'.format(score*100, time.process_time()-t, type(clf).__name__))"
   ]
  },
  {
   "cell_type": "markdown",
   "metadata": {
    "deletable": true,
    "editable": true
   },
   "source": [
    "## 2 Deep learning on raw audio"
   ]
  },
  {
   "cell_type": "code",
   "execution_count": null,
   "metadata": {
    "collapsed": false,
    "deletable": true,
    "editable": true
   },
   "outputs": [],
   "source": [
    "# TODO: fix dataset.\n",
    "df['top_genre'] = df['top_genre'].apply(lambda genre: 'Old-Time' if genre == 'Old-Time / Historic' else genre)\n",
    "\n",
    "# TODO: fix dataset.\n",
    "# Clips with less than 1321967 samples because lower sampling rate, or mono.\n",
    "BAD_CLIPS = [16402, 16425, 16406, 16431, 33709, 16352, 16404, 33708, 31375, 33702, 22590, 22591, 16039,\n",
    "             12856, 33716, 16426, 16422, 16421, 16405, 16427, 16401, 16038, 16424, 16429, 16351, 16428,\n",
    "             16039, 33716, 33702, 31375, 16422, 16352, 22591, 16426, 16429, 16038, 16401, 12856, 16404,\n",
    "             16402, 16428, 16425, 16405, 33708, 16424, 33709, 16427, 16431, 22590, 16351, 33714, 16421, 16406]\n",
    "BAD_CLIPS.extend([11665, 12899, 12916, 12917, 16353, 16398, 16400, 16423, 16430, 18689, 18691])\n",
    "\n",
    "df = df.drop(BAD_CLIPS)\n",
    "path = utils.build_path(df, DATA_DIR)"
   ]
  },
  {
   "cell_type": "code",
   "execution_count": null,
   "metadata": {
    "collapsed": false,
    "deletable": true,
    "editable": true
   },
   "outputs": [],
   "source": [
    "labels_onehot = LabelBinarizer().fit_transform(df.top_genre)\n",
    "\n",
    "train = np.argwhere(df['train'] == True).flatten()\n",
    "test = np.argwhere(df['train'] == False).flatten()"
   ]
  },
  {
   "cell_type": "markdown",
   "metadata": {
    "deletable": true,
    "editable": true
   },
   "source": [
    "Load audio samples in parallel using `multiprocessing` so as to maximize CPU usage when decoding MP3s and making some optional pre-processing. There are multiple ways to load a waveform from a compressed MP3:\n",
    "* librosa uses audioread in the backend which can use many native libraries, e.g. ffmpeg\n",
    "    * resampling is very slow\n",
    "    * does not work with multi-processing, for keras `fit_generator()`\n",
    "* pydub is a high-level interface for audio modification, uses ffmpeg to load\n",
    "    * store a temporary `.wav`\n",
    "* directly pipe ffmpeg output\n",
    "    * fastest method\n",
    "* [pyAV](https://github.com/mikeboers/PyAV) may be a fastest alternative by linking to ffmpeg libraries"
   ]
  },
  {
   "cell_type": "code",
   "execution_count": null,
   "metadata": {
    "collapsed": false,
    "deletable": true,
    "editable": true
   },
   "outputs": [],
   "source": [
    "SampleLoader = utils.build_sample_loader(path, labels_onehot)\n",
    "\n",
    "# Just be sure that everything is fine. Multiprocessing is tricky to debug.\n",
    "tmp = SampleLoader(train)\n",
    "tmp._load_ffmpeg(path(0));\n",
    "tmp.__next__();\n",
    "\n",
    "#filename_ok = '../fma_small/Electronic/100538.mp3'\n",
    "#filename_mono = '../fma_small/Old-Time/18001.mp3'\n",
    "#filename_11kHz = '../fma_small/Hip-Hop/31375.mp3'\n",
    "#filename = filename_ok\n",
    "#%timeit x = load_librosa(filename)\n",
    "#%timeit x = load_pydub(filename)\n",
    "#%timeit x = load_ffmpeg(filename)\n",
    "#x.size"
   ]
  },
  {
   "cell_type": "markdown",
   "metadata": {
    "deletable": true,
    "editable": true
   },
   "source": [
    "### 2.1 Fully connected neural network\n",
    "\n",
    "* Two layers with 10 hiddens is no better than random, ~11%."
   ]
  },
  {
   "cell_type": "code",
   "execution_count": null,
   "metadata": {
    "collapsed": false,
    "deletable": true,
    "editable": true
   },
   "outputs": [],
   "source": [
    "import keras\n",
    "from keras.layers import Dense, Activation\n",
    "\n",
    "model = keras.models.Sequential()\n",
    "model.add(Dense(output_dim=100, input_dim=utils.NB_AUDIO_SAMPLES))\n",
    "model.add(Activation(\"relu\"))\n",
    "model.add(Dense(output_dim=labels_onehot.shape[1]))\n",
    "model.add(Activation(\"softmax\"))"
   ]
  },
  {
   "cell_type": "code",
   "execution_count": null,
   "metadata": {
    "collapsed": false,
    "deletable": true,
    "editable": true
   },
   "outputs": [],
   "source": [
    "from keras.optimizers import SGD\n",
    "optimizer = SGD(lr=0.1, momentum=0.9, nesterov=True)\n",
    "#optimizer = SGD()\n",
    "model.compile(optimizer, loss='categorical_crossentropy', metrics=['accuracy'])"
   ]
  },
  {
   "cell_type": "markdown",
   "metadata": {
    "deletable": true,
    "editable": true
   },
   "source": [
    "Optimize data loading to be CPU / GPU bound, not IO bound. Larger batches means reduced training time, so increase batch time until memory exhaustion. Number of workers and queue size have no influence on speed.\n",
    "\n",
    "CPU\n",
    "* batch 4, worker 8, queue 1, 600s\n",
    "* batch 20, worker 24, queue 5, 190s\n",
    "* batch 20, worker 12, queue 10, 185s\n",
    "* batch 40, worker 12, queue 10, 135s\n",
    "* batch 64, worker 12, queue 10, 110s\n",
    "* batch 128, worker 12, queue 10, 100s\n",
    "\n",
    "GPU Tesla K40c\n",
    "* batch 4, worker 12, queue 10, 250s\n",
    "* batch 16, worker 12, queue 10, 100s\n",
    "* batch 32, worker 12, queue 10, 90s\n",
    "* batch 64, worker 12, queue 10, 70s\n",
    "* batch 96-128 --> memory error"
   ]
  },
  {
   "cell_type": "code",
   "execution_count": null,
   "metadata": {
    "collapsed": false,
    "deletable": true,
    "editable": true
   },
   "outputs": [],
   "source": [
    "NB_WORKER = len(os.sched_getaffinity(0))  # number of usables CPUs\n",
    "loader = SampleLoader(train, batch_size=64)\n",
    "model.fit_generator(loader, train.size, nb_epoch=2, pickle_safe=True, nb_worker=NB_WORKER, max_q_size=10);"
   ]
  },
  {
   "cell_type": "code",
   "execution_count": null,
   "metadata": {
    "collapsed": false,
    "deletable": true,
    "editable": true
   },
   "outputs": [],
   "source": [
    "#test = np.array(range(19))\n",
    "\n",
    "loader = SampleLoader(test, batch_size=64)\n",
    "loss = model.evaluate_generator(loader, test.size, pickle_safe=True, nb_worker=NB_WORKER, max_q_size=10);\n",
    "#Y = model.predict_generator(loader, test.size, pickle_safe=True, nb_worker=NB_WORKER, max_q_size=5);\n",
    "\n",
    "loss"
   ]
  },
  {
   "cell_type": "markdown",
   "metadata": {
    "deletable": true,
    "editable": true
   },
   "source": [
    "### 2.2 Convolutional neural network"
   ]
  },
  {
   "cell_type": "markdown",
   "metadata": {
    "deletable": true,
    "editable": true
   },
   "source": [
    "### 2.3 Recurrent neural network"
   ]
  }
 ],
 "metadata": {
  "kernelspec": {
   "display_name": "Python 3",
   "language": "python",
   "name": "python3"
  },
  "language_info": {
   "codemirror_mode": {
    "name": "ipython",
    "version": 3
   },
   "file_extension": ".py",
   "mimetype": "text/x-python",
   "name": "python",
   "nbconvert_exporter": "python",
   "pygments_lexer": "ipython3",
   "version": "3.6.0"
  }
 },
 "nbformat": 4,
 "nbformat_minor": 1
}
