{
 "cells": [
  {
   "cell_type": "markdown",
   "metadata": {
    "collapsed": true,
    "deletable": true,
    "editable": true
   },
   "source": [
    "# FMA: A Dataset For Music Analysis\n",
    "\n",
    "Kirell Benzi, Michaël Defferrard, Pierre Vandergheynst, Xavier Bresson, EPFL LTS2.\n",
    "\n",
    "## Usage\n",
    "\n",
    "1. Download dataset from <https://github.com/mdeff/fma>.\n",
    "2. Uncompress the archive, e.g. with `unzip fma_small.zip`.\n",
    "3. Load and play with the data in this notebook."
   ]
  },
  {
   "cell_type": "code",
   "execution_count": null,
   "metadata": {
    "collapsed": false,
    "deletable": true,
    "editable": true
   },
   "outputs": [],
   "source": [
    "%matplotlib inline\n",
    "\n",
    "import utils\n",
    "import librosa\n",
    "from sklearn.preprocessing import StandardScaler\n",
    "from sklearn.svm import SVC\n",
    "import matplotlib.pyplot as plt\n",
    "import pandas as pd\n",
    "import numpy as np\n",
    "import IPython.display as ipd\n",
    "import os.path"
   ]
  },
  {
   "cell_type": "code",
   "execution_count": null,
   "metadata": {
    "collapsed": false,
    "deletable": true,
    "editable": true
   },
   "outputs": [],
   "source": [
    "DATA_DIR = os.environ.get('DATA_DIR')\n",
    "df = pd.read_json(os.path.join(DATA_DIR, 'fma_small.json'))\n",
    "path = utils.build_path(df, DATA_DIR)"
   ]
  },
  {
   "cell_type": "markdown",
   "metadata": {
    "deletable": true,
    "editable": true
   },
   "source": [
    "## 1 Metadata\n",
    "\n",
    "The metadata table, a JSON file in the root directory of the archive, is composed of many colums:\n",
    "1. The index is the ID of the song, taken from the FMA, used as the name of the audio file.\n",
    "2. Meta-data from the Free Music Archive website (4 columns).\n",
    "3. A column to indicate if the song is part of the training or testing set.\n",
    "4. For the `small` and `medium` datasets, data colected from the [Echonest](http://the.echonest.com/) API:\n",
    "    1. Meta-data (5 columns).\n",
    "    2. Temporal features: one vector per song.\n",
    "    3. Audio features (8 columns).\n",
    "    4. Social features (5 columns).\n",
    "    5. Rankings (5 columns)."
   ]
  },
  {
   "cell_type": "code",
   "execution_count": null,
   "metadata": {
    "collapsed": false,
    "deletable": true,
    "editable": true,
    "scrolled": false
   },
   "outputs": [],
   "source": [
    "ipd.display(df[utils.FMA_METADATA].head())\n",
    "ipd.display(df[utils.ECHONEST_METADATA].head())\n",
    "ipd.display(df[utils.ECHONEST_AUDIO_FEATURES].head())\n",
    "ipd.display(df[utils.ECHONEST_SOCIAL_FEATURES].head())\n",
    "#ipd.display(df[utils.ECHONEST_RANKS].head())"
   ]
  },
  {
   "cell_type": "code",
   "execution_count": null,
   "metadata": {
    "collapsed": false,
    "deletable": true,
    "editable": true
   },
   "outputs": [],
   "source": [
    "x = df.loc[10060, utils.ECHONEST_TEMPORAL_FEATURES]\n",
    "plt.figure(figsize=(15, 5))\n",
    "plt.plot(x);"
   ]
  },
  {
   "cell_type": "markdown",
   "metadata": {
    "deletable": true,
    "editable": true
   },
   "source": [
    "# 2 Audio\n",
    "\n",
    "You can listen to an audio excerpt with the below code."
   ]
  },
  {
   "cell_type": "code",
   "execution_count": null,
   "metadata": {
    "collapsed": false,
    "deletable": true,
    "editable": true
   },
   "outputs": [],
   "source": [
    "filename = path(0)\n",
    "print('File: {}'.format(filename))\n",
    "ipd.Audio(filename)"
   ]
  },
  {
   "cell_type": "markdown",
   "metadata": {
    "deletable": true,
    "editable": true
   },
   "source": [
    "And use [librosa](https://github.com/librosa/librosa) to extract the raw waveform and compute audio features."
   ]
  },
  {
   "cell_type": "code",
   "execution_count": null,
   "metadata": {
    "collapsed": false,
    "deletable": true,
    "editable": true
   },
   "outputs": [],
   "source": [
    "x, sr = librosa.load(filename)\n",
    "print('Duration: {:.2f}s, {} samples'.format(x.shape[0] / sr, x.size))\n",
    "ipd.display(ipd.Audio(data=x, rate=sr))\n",
    "\n",
    "plt.figure(figsize=(15, 5))\n",
    "plt.plot(x)\n",
    "\n",
    "plt.figure(figsize=(15, 5))\n",
    "S, freqs, bins, im = plt.specgram(x, NFFT=1024, Fs=sr, noverlap=512)"
   ]
  },
  {
   "cell_type": "markdown",
   "metadata": {
    "deletable": true,
    "editable": true
   },
   "source": [
    "## 3 Genre classification"
   ]
  },
  {
   "cell_type": "markdown",
   "metadata": {
    "deletable": true,
    "editable": true
   },
   "source": [
    "### 3.1 From Echonest features"
   ]
  },
  {
   "cell_type": "code",
   "execution_count": null,
   "metadata": {
    "collapsed": false,
    "deletable": true,
    "editable": true
   },
   "outputs": [],
   "source": [
    "# Select features.\n",
    "features = utils.ECHONEST_AUDIO_FEATURES + utils.ECHONEST_SOCIAL_FEATURES\n",
    "\n",
    "# Discard songs with NaN Echonest features.\n",
    "# TODO: fix dataset.\n",
    "keep = df[features].isnull().apply(lambda x: not x.any(), axis=1)\n",
    "df = df[keep]\n",
    "\n",
    "X = df[features].as_matrix()\n",
    "y = df.top_genre.as_matrix()"
   ]
  },
  {
   "cell_type": "code",
   "execution_count": null,
   "metadata": {
    "collapsed": false,
    "deletable": true,
    "editable": true
   },
   "outputs": [],
   "source": [
    "train = df['train'] == True\n",
    "\n",
    "y_train = y[train]\n",
    "y_test = y[~train]\n",
    "X_train = X[train]\n",
    "X_test = X[~train]\n",
    "\n",
    "print('{} training examples, {} testing examples'.format(y_train.size, y_test.size))\n",
    "print('{} features, {} classes'.format(X_train.shape[1], np.unique(y_train).size))"
   ]
  },
  {
   "cell_type": "code",
   "execution_count": null,
   "metadata": {
    "collapsed": false,
    "deletable": true,
    "editable": true
   },
   "outputs": [],
   "source": [
    "# Standardize features by removing the mean and scaling to unit variance.\n",
    "scaler = StandardScaler(copy=False)\n",
    "scaler.fit_transform(X_train)\n",
    "scaler.transform(X_test)\n",
    "\n",
    "# Support vector classification.\n",
    "clf = SVC()\n",
    "clf.fit(X_train, y_train)\n",
    "score = clf.score(X_test, y_test)\n",
    "print('Accuracy: {:.2f} %'.format(score*100))"
   ]
  },
  {
   "cell_type": "markdown",
   "metadata": {
    "deletable": true,
    "editable": true
   },
   "source": [
    "### 3.2 From raw audio"
   ]
  },
  {
   "cell_type": "markdown",
   "metadata": {
    "deletable": true,
    "editable": true
   },
   "source": [
    "### 3.3 From hand-crafted audio features"
   ]
  }
 ],
 "metadata": {
  "kernelspec": {
   "display_name": "Python 3",
   "language": "python",
   "name": "python3"
  },
  "language_info": {
   "codemirror_mode": {
    "name": "ipython",
    "version": 3
   },
   "file_extension": ".py",
   "mimetype": "text/x-python",
   "name": "python",
   "nbconvert_exporter": "python",
   "pygments_lexer": "ipython3",
   "version": "3.6.0"
  }
 },
 "nbformat": 4,
 "nbformat_minor": 2
}
